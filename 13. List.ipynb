{
 "cells": [
  {
   "cell_type": "markdown",
   "metadata": {},
   "source": [
    "# List"
   ]
  },
  {
   "cell_type": "code",
   "execution_count": 2,
   "metadata": {},
   "outputs": [],
   "source": [
    "# 하나의 List에 다양한 데이터 타입을 넣을 수 있음\n",
    "# List 안에 다른 list를 넣을 수 있음(Nested List)\n",
    "# Index 사용하여 리스트 안의 하나의 값만 출력 가능"
   ]
  },
  {
   "cell_type": "code",
   "execution_count": 3,
   "metadata": {},
   "outputs": [],
   "source": [
    "# List 관련 메소드\n",
    "# len(s)\n",
    "# list() : 텅빈 list 하나 생성\n",
    "# append(value) : 존재하는 list 끝에 value 삽입\n",
    "# extend(value) : 존재하는 list 끝에 value를 삽입(append와 다른 메카니즘)\n",
    "# sort() : list를 정렬"
   ]
  },
  {
   "cell_type": "code",
   "execution_count": 4,
   "metadata": {},
   "outputs": [
    {
     "name": "stdout",
     "output_type": "stream",
     "text": [
      "0\n"
     ]
    }
   ],
   "source": [
    "a = []\n",
    "a = list()\n",
    "print(len(a))\n"
   ]
  },
  {
   "cell_type": "code",
   "execution_count": 5,
   "metadata": {},
   "outputs": [
    {
     "name": "stdout",
     "output_type": "stream",
     "text": [
      "4\n"
     ]
    }
   ],
   "source": [
    "b = [5, 10, 15, 20]\n",
    "print(len(b))"
   ]
  },
  {
   "cell_type": "code",
   "execution_count": 6,
   "metadata": {},
   "outputs": [
    {
     "name": "stdout",
     "output_type": "stream",
     "text": [
      "3\n"
     ]
    }
   ],
   "source": [
    "c = ['alice', 'bob', 'kathy']\n",
    "print(len(c))"
   ]
  },
  {
   "cell_type": "code",
   "execution_count": 7,
   "metadata": {},
   "outputs": [
    {
     "name": "stdout",
     "output_type": "stream",
     "text": [
      "[5, 'good', True, 8.11, [1, 2, 3]]\n",
      "5\n"
     ]
    }
   ],
   "source": [
    "d = [5, 'good', True, 8.11, [1,2,3]]\n",
    "print(d)\n",
    "print(len(d))"
   ]
  },
  {
   "cell_type": "code",
   "execution_count": 8,
   "metadata": {},
   "outputs": [
    {
     "name": "stdout",
     "output_type": "stream",
     "text": [
      "['baseball', 'football', 'soccer', 'basketball', 'hockey']\n",
      "baseball\n",
      "football\n",
      "1\n",
      "hockey\n"
     ]
    }
   ],
   "source": [
    "# index\n",
    "sports = ['baseball', 'football', 'soccer', 'basketball', 'hockey']\n",
    "print(sports)\n",
    "print(sports[0])\n",
    "print(sports[1])\n",
    "\n",
    "# nested list에 index 이용해서 접근하기\n",
    "print(d[4][0])\n",
    "\n",
    "# list에는 음수도 들어감\n",
    "print(sports[-1])"
   ]
  },
  {
   "cell_type": "code",
   "execution_count": 9,
   "metadata": {},
   "outputs": [
    {
     "name": "stdout",
     "output_type": "stream",
     "text": [
      "['soccer', 'basketball']\n",
      "['football', 'soccer', 'basketball', 'hockey']\n",
      "['baseball', 'football', 'soccer']\n",
      "['baseball', 'football', 'soccer', 'basketball', 'hockey']\n"
     ]
    }
   ],
   "source": [
    "# list slicing (:)\n",
    "print(sports[2:4]) # 2~3 index의 자료를 들고와라, 끝 숫자는 배제됨\n",
    "\n",
    "# slicing의 4가지 방법\n",
    "# list[x:y], list[x:], list[:y], list[:]\n",
    "\n",
    "print(sports[1:])\n",
    "print(sports[:3])\n",
    "print(sports[:])"
   ]
  },
  {
   "cell_type": "code",
   "execution_count": 10,
   "metadata": {},
   "outputs": [
    {
     "name": "stdout",
     "output_type": "stream",
     "text": [
      "5\n"
     ]
    }
   ],
   "source": [
    "# list method\n",
    "print(len(sports))"
   ]
  },
  {
   "cell_type": "code",
   "execution_count": 13,
   "metadata": {},
   "outputs": [
    {
     "name": "stdout",
     "output_type": "stream",
     "text": [
      "['baseball', 'football', 'soccer', 'basketball', 'hockey', 'bowling', 'bowling', 'bowling']\n"
     ]
    }
   ],
   "source": [
    "# append vs extend\n",
    "sports = ['baseball', 'football', 'soccer', 'basketball', 'hockey']\n",
    "sport = 'bowling'\n",
    "sports_list = ['golf', 'volleyball']\n",
    "sports.append(sport)\n",
    "print(sports)"
   ]
  },
  {
   "cell_type": "code",
   "execution_count": 14,
   "metadata": {},
   "outputs": [
    {
     "name": "stdout",
     "output_type": "stream",
     "text": [
      "['baseball', 'football', 'soccer', 'basketball', 'hockey', 'b', 'o', 'w', 'l', 'i', 'n', 'g']\n"
     ]
    }
   ],
   "source": [
    "sports = ['baseball', 'football', 'soccer', 'basketball', 'hockey']\n",
    "sports.extend(sport)\n",
    "print(sports)"
   ]
  },
  {
   "cell_type": "code",
   "execution_count": 16,
   "metadata": {},
   "outputs": [
    {
     "name": "stdout",
     "output_type": "stream",
     "text": [
      "['baseball', 'football', 'soccer', 'basketball', 'hockey', ['golf', 'volleyball']]\n"
     ]
    }
   ],
   "source": [
    "sports = ['baseball', 'football', 'soccer', 'basketball', 'hockey']\n",
    "sports.append(sports_list)\n",
    "print(sports)"
   ]
  },
  {
   "cell_type": "code",
   "execution_count": 18,
   "metadata": {},
   "outputs": [
    {
     "name": "stdout",
     "output_type": "stream",
     "text": [
      "['baseball', 'football', 'soccer', 'basketball', 'hockey', 'golf', 'volleyball']\n"
     ]
    }
   ],
   "source": [
    "sports = ['baseball', 'football', 'soccer', 'basketball', 'hockey']\n",
    "sports.extend(sports_list)\n",
    "print(sports)\n",
    "\n",
    "# extend는 list 안의 index를 하나씩 분리해서 list 안에 넣어줌"
   ]
  },
  {
   "cell_type": "code",
   "execution_count": 19,
   "metadata": {},
   "outputs": [
    {
     "ename": "TypeError",
     "evalue": "'<' not supported between instances of 'str' and 'int'",
     "output_type": "error",
     "traceback": [
      "\u001b[1;31m---------------------------------------------------------------------------\u001b[0m",
      "\u001b[1;31mTypeError\u001b[0m                                 Traceback (most recent call last)",
      "\u001b[1;32mc:\\Users\\1111\\Desktop\\python\\13. List.ipynb 셀 15\u001b[0m in \u001b[0;36m<cell line: 2>\u001b[1;34m()\u001b[0m\n\u001b[0;32m      <a href='vscode-notebook-cell:/c%3A/Users/1111/Desktop/python/13.%20List.ipynb#X20sZmlsZQ%3D%3D?line=0'>1</a>\u001b[0m e \u001b[39m=\u001b[39m [\u001b[39m5\u001b[39m,\u001b[39m2\u001b[39m,\u001b[39m6\u001b[39m,\u001b[39m'\u001b[39m\u001b[39mc\u001b[39m\u001b[39m'\u001b[39m,\u001b[39m'\u001b[39m\u001b[39mf\u001b[39m\u001b[39m'\u001b[39m,\u001b[39m'\u001b[39m\u001b[39ma\u001b[39m\u001b[39m'\u001b[39m,\u001b[39m1\u001b[39m,\u001b[39m'\u001b[39m\u001b[39m3\u001b[39m\u001b[39m'\u001b[39m]\n\u001b[1;32m----> <a href='vscode-notebook-cell:/c%3A/Users/1111/Desktop/python/13.%20List.ipynb#X20sZmlsZQ%3D%3D?line=1'>2</a>\u001b[0m e\u001b[39m.\u001b[39;49msort()\n",
      "\u001b[1;31mTypeError\u001b[0m: '<' not supported between instances of 'str' and 'int'"
     ]
    }
   ],
   "source": [
    "e = [5,2,6,'c','f','a',1,'3']\n",
    "e.sort()"
   ]
  },
  {
   "cell_type": "code",
   "execution_count": null,
   "metadata": {},
   "outputs": [],
   "source": []
  }
 ],
 "metadata": {
  "kernelspec": {
   "display_name": "Python 3.10.6 64-bit",
   "language": "python",
   "name": "python3"
  },
  "language_info": {
   "codemirror_mode": {
    "name": "ipython",
    "version": 3
   },
   "file_extension": ".py",
   "mimetype": "text/x-python",
   "name": "python",
   "nbconvert_exporter": "python",
   "pygments_lexer": "ipython3",
   "version": "3.10.6"
  },
  "orig_nbformat": 4,
  "vscode": {
   "interpreter": {
    "hash": "d88b793065e60e34cedc50abc20c89e6195def6c715b98f6865f46e66db0571f"
   }
  }
 },
 "nbformat": 4,
 "nbformat_minor": 2
}
