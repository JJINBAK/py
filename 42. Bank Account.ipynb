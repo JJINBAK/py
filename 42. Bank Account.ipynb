{
 "cells": [
  {
   "cell_type": "code",
   "execution_count": 19,
   "metadata": {},
   "outputs": [],
   "source": [
    "currMoney = 300000 # 현재 은행잔고"
   ]
  },
  {
   "cell_type": "code",
   "execution_count": 20,
   "metadata": {},
   "outputs": [
    {
     "name": "stdout",
     "output_type": "stream",
     "text": [
      "1 : 입금, 2 : 출금, 3 : 잔고확인, 0 : 프로그램 출력\n"
     ]
    }
   ],
   "source": [
    "print('1 : 입금, 2 : 출금, 3 : 잔고확인, 0 : 프로그램 출력')\n",
    "option = int(input(\"0부터 3까지 원하는 옵션을 넣어주세요. 프로그램 종료를 원하시면 0을 입력하세요. : \"))"
   ]
  },
  {
   "cell_type": "code",
   "execution_count": 21,
   "metadata": {},
   "outputs": [
    {
     "name": "stdout",
     "output_type": "stream",
     "text": [
      "<class 'int'>\n"
     ]
    }
   ],
   "source": [
    "print(type(option))"
   ]
  },
  {
   "cell_type": "code",
   "execution_count": 22,
   "metadata": {},
   "outputs": [
    {
     "name": "stdout",
     "output_type": "stream",
     "text": [
      "성공적으로 금액 100000 원이 출금되었습니다! 현재 잔고는 200000 원 입니다.\n"
     ]
    }
   ],
   "source": [
    "# if-elif-else\n",
    "\n",
    "if option == 1:\n",
    "    moneyIn = int(input(\"입금하고 싶은 금액을 입력해주세요 : \"))\n",
    "    currMoney += moneyIn\n",
    "    print(\"성공적으로 금액 %d 원이 입금되었습니다! 현재 잔고는 %d 원 입니다.\" %(moneyIn, currMoney))\n",
    "elif option == 2:\n",
    "    moneyOut = int(input(\"출금하고 싶은 금액을 입력해주세요 (최대 출금 금액 : 10만원) : \"))\n",
    "    if moneyOut <= 100000:\n",
    "        currMoney -= moneyIn\n",
    "        print(\"성공적으로 금액 %d 원이 출금되었습니다! 현재 잔고는 %d 원 입니다.\" %(moneyOut, currMoney))\n",
    "elif option == 3:\n",
    "    print(\"현재 은행잔고 : %d 원\" % currMoney)\n",
    "else:\n",
    "    print(\"저희 은행을 이용해주셔서 대단히 감사합니다.\")\n",
    "    "
   ]
  },
  {
   "cell_type": "code",
   "execution_count": null,
   "metadata": {},
   "outputs": [],
   "source": []
  }
 ],
 "metadata": {
  "kernelspec": {
   "display_name": "Python 3.10.6 64-bit",
   "language": "python",
   "name": "python3"
  },
  "language_info": {
   "codemirror_mode": {
    "name": "ipython",
    "version": 3
   },
   "file_extension": ".py",
   "mimetype": "text/x-python",
   "name": "python",
   "nbconvert_exporter": "python",
   "pygments_lexer": "ipython3",
   "version": "3.10.6"
  },
  "orig_nbformat": 4,
  "vscode": {
   "interpreter": {
    "hash": "d88b793065e60e34cedc50abc20c89e6195def6c715b98f6865f46e66db0571f"
   }
  }
 },
 "nbformat": 4,
 "nbformat_minor": 2
}
