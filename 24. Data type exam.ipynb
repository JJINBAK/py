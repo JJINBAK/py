{
 "cells": [
  {
   "cell_type": "code",
   "execution_count": 1,
   "metadata": {},
   "outputs": [],
   "source": [
    "statement1 = 'I am learning Python and very excited about it!'\n",
    "\n",
    "language = ['Java', 'C', 'Python', 'NodeJS']\n",
    "\n",
    "statement2 = 'Are you exicited about learning Python? Same as me!!'\n",
    "\n",
    "flag = False\n",
    "\n",
    "pi = 3.14"
   ]
  },
  {
   "cell_type": "code",
   "execution_count": 2,
   "metadata": {},
   "outputs": [
    {
     "data": {
      "text/plain": [
       "47"
      ]
     },
     "execution_count": 2,
     "metadata": {},
     "output_type": "execute_result"
    }
   ],
   "source": [
    "# 미션1 : 문자열 statement1의 길이를 변환하는 코드를 작성합니다.\n",
    "len(statement1)"
   ]
  },
  {
   "cell_type": "code",
   "execution_count": 3,
   "metadata": {},
   "outputs": [
    {
     "name": "stdout",
     "output_type": "stream",
     "text": [
      "Python\n"
     ]
    }
   ],
   "source": [
    "# 미션2 : new_len이란 변수를 새로 만들고 'Python'\n",
    "# 이란 값을 할당합니다. 대신 'Python'을 리스트 language 에서\n",
    "# 가져와야 합니다. 그런다음 new_len을 출력합니다.\n",
    "\n",
    "new_len = language[2]\n",
    "print(new_len)"
   ]
  },
  {
   "cell_type": "code",
   "execution_count": 5,
   "metadata": {},
   "outputs": [
    {
     "name": "stdout",
     "output_type": "stream",
     "text": [
      "2\n",
      "4\n",
      "{'o': 2, 't': 4}\n"
     ]
    }
   ],
   "source": [
    "# 미션3 : statement1 문자열에서, 'o'와 't'의 갯수를 구합니다. \n",
    "# 그런다음 word_cnt라는 dictionary를 만들어주는데 \n",
    "# key는 알파벳('o', 't')를 넣어주고 value는 그들의 갯수를 넣어줍니다. \n",
    "# 그런다음 word_cnt를 출력합니다.\n",
    "\n",
    "print(statement1.count('o'))\n",
    "print(statement1.count('t'))\n",
    "word_cnt = {'o':statement1.count('o'),'t':statement1.count('t')}\n",
    "print(word_cnt)"
   ]
  },
  {
   "cell_type": "code",
   "execution_count": 11,
   "metadata": {},
   "outputs": [
    {
     "name": "stdout",
     "output_type": "stream",
     "text": [
      "{'about', 'learning'}\n"
     ]
    }
   ],
   "source": [
    "# 미션4 : 한칸 띄워쓰기(' ')에 근거하여 split() 함수를 \n",
    "# statement1, statement2에 적용시킵니다. \n",
    "# 그런다음 각각의 결과를 새로운 리스트에 넣어줍니다('split_st1', 'split_st2'). \n",
    "# 그다음 두개의 새로운 변수를 만들어주는데 이름은 'set_1', 'set_2'로 지정합니다 \n",
    "# (참고 : set_1은 split_st1을 위함, set_2는 split_st2를 위함). \n",
    "# set_1과 set_2에는 앞에서 split했던 결과로부터 얻어진 리스트 안에 들어있는 단어들이 들어있어야 합니다 \n",
    "# (힌트 : set() 함수를 사용합니다). \n",
    "# set_1과 set_2를 생성하셨다면 set_1과 set_2의 intersection()함수를 사용한 결과값을 출력합니다.\n",
    "\n",
    "split_str1 = list(statement1.split(' '))\n",
    "split_str2 = list(statement2.split(' '))\n",
    "set_1 = set(split_str1)\n",
    "set_2 = set(split_str2)\n",
    "print(set_1.intersection(set_2))"
   ]
  },
  {
   "cell_type": "code",
   "execution_count": 13,
   "metadata": {},
   "outputs": [
    {
     "name": "stdout",
     "output_type": "stream",
     "text": [
      "Are you sure pi is 3.14? Is it True?\n"
     ]
    }
   ],
   "source": [
    "# 미션5 : 'Are you sure pi is 3.14? Is it True?' 라는 문장을 \n",
    "# flag와 pi 변수를 사용하여 만듭니다 (힌트 : string concatenation). \n",
    "# [주의 : 단순히 저 문장을 타이핑하지 마세요. 필요에 의하면 타입 형변환도 해줄 수 있습니다!!]\n",
    "print('Are you sure pi is ' + str(pi) + '? Is it ' + str(not(flag)) + '?')"
   ]
  },
  {
   "cell_type": "code",
   "execution_count": null,
   "metadata": {},
   "outputs": [],
   "source": []
  }
 ],
 "metadata": {
  "kernelspec": {
   "display_name": "Python 3.10.6 64-bit",
   "language": "python",
   "name": "python3"
  },
  "language_info": {
   "codemirror_mode": {
    "name": "ipython",
    "version": 3
   },
   "file_extension": ".py",
   "mimetype": "text/x-python",
   "name": "python",
   "nbconvert_exporter": "python",
   "pygments_lexer": "ipython3",
   "version": "3.10.6"
  },
  "orig_nbformat": 4,
  "vscode": {
   "interpreter": {
    "hash": "d88b793065e60e34cedc50abc20c89e6195def6c715b98f6865f46e66db0571f"
   }
  }
 },
 "nbformat": 4,
 "nbformat_minor": 2
}
