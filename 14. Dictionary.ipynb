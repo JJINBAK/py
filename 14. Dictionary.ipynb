{
 "cells": [
  {
   "cell_type": "markdown",
   "metadata": {},
   "source": [
    "# Dictionary"
   ]
  },
  {
   "cell_type": "code",
   "execution_count": 2,
   "metadata": {},
   "outputs": [],
   "source": [
    "# 단어(key) -> 정보(value)\n",
    "# key-value 데이터를 담고있는 collection data type\n",
    "# ex) BTS(key) -> 가수(value)\n",
    "# is-a relationship : BTS is a singer\n",
    "# 이름(key)-사이먼(value), 성별(key)-남성(value)\n",
    "\n",
    "# {key:value} 형식으로 생성\n",
    "# dictionary는 mutable => key-value는 변경가능\n",
    "# key : int, float, string만 사용 가능\n",
    "# value : 모든 데이터 타입 가능\n",
    "# key는 고유해야하며 중복 허용 안됨"
   ]
  },
  {
   "cell_type": "code",
   "execution_count": 9,
   "metadata": {},
   "outputs": [
    {
     "name": "stdout",
     "output_type": "stream",
     "text": [
      "<class 'dict_keys'>\n"
     ]
    }
   ],
   "source": [
    "# Dictionary 관련 메소드\n",
    "# key() : dictionary의 key 반환\n",
    "# values()\n",
    "# items() : 모든 key-value 페어 반환\n",
    "# pop(K) : K와 묶여있는 value 반환, 이후 dictionary에서 K:V 페어 제거\n",
    "\n",
    "dict_ex={'car':'Lexus', 'color':'White'}\n",
    "dict_ex.keys()\n",
    "print(type(dict_ex.keys()))\n",
    "\n",
    "# Dictionary는 list의 index 처럼 key를 가지고 데이터 접근"
   ]
  },
  {
   "cell_type": "code",
   "execution_count": 10,
   "metadata": {},
   "outputs": [
    {
     "name": "stdout",
     "output_type": "stream",
     "text": [
      "{}\n"
     ]
    }
   ],
   "source": [
    "a = {}\n",
    "print(a)"
   ]
  },
  {
   "cell_type": "code",
   "execution_count": 29,
   "metadata": {},
   "outputs": [
    {
     "name": "stdout",
     "output_type": "stream",
     "text": [
      "{'fuite': 'banana', 'quantity': 10, 'discount': True}\n"
     ]
    }
   ],
   "source": [
    "a = {'fuite':'banana', 'quantity':10, 'discount':True}\n",
    "print(a)"
   ]
  },
  {
   "cell_type": "code",
   "execution_count": 12,
   "metadata": {},
   "outputs": [
    {
     "name": "stdout",
     "output_type": "stream",
     "text": [
      "10\n"
     ]
    }
   ],
   "source": [
    "print(a['quantity'])"
   ]
  },
  {
   "cell_type": "code",
   "execution_count": 14,
   "metadata": {},
   "outputs": [
    {
     "name": "stdout",
     "output_type": "stream",
     "text": [
      "{'fuite': 'banana', 'quantity': 10, 'discount': True, 'price': '$1'}\n"
     ]
    }
   ],
   "source": [
    "# K:V 페어 넣기 (key가 있는데 값을 할당하면 기존 키의 value 값을 바꾸게됨)\n",
    "a['price'] = '$1'\n",
    "print(a)"
   ]
  },
  {
   "cell_type": "code",
   "execution_count": 16,
   "metadata": {},
   "outputs": [
    {
     "name": "stdout",
     "output_type": "stream",
     "text": [
      "dict_keys(['fuite', 'quantity', 'discount', 'price'])\n",
      "<class 'dict_keys'>\n"
     ]
    }
   ],
   "source": [
    "# keys()\n",
    "print(a.keys())\n",
    "print(type(a.keys()))"
   ]
  },
  {
   "cell_type": "code",
   "execution_count": 24,
   "metadata": {},
   "outputs": [
    {
     "name": "stdout",
     "output_type": "stream",
     "text": [
      "['fuite', 'quantity', 'discount', 'price']\n",
      "fuite\n"
     ]
    }
   ],
   "source": [
    "# dictionary->list로 형변환\n",
    "print(list(a.keys()))\n",
    "print(list(a.keys())[0])"
   ]
  },
  {
   "cell_type": "code",
   "execution_count": 20,
   "metadata": {},
   "outputs": [
    {
     "name": "stdout",
     "output_type": "stream",
     "text": [
      "dict_values(['banana', 10, True, '$1'])\n"
     ]
    }
   ],
   "source": [
    "# values()\n",
    "print(a.values())"
   ]
  },
  {
   "cell_type": "code",
   "execution_count": 23,
   "metadata": {},
   "outputs": [
    {
     "name": "stdout",
     "output_type": "stream",
     "text": [
      "[('fuite', 'banana'), ('quantity', 10), ('discount', True), ('price', '$1')]\n",
      "('fuite', 'banana')\n"
     ]
    }
   ],
   "source": [
    "# items()\n",
    "print(list(a.items()))\n",
    "print(list(a.items())[0])"
   ]
  },
  {
   "cell_type": "code",
   "execution_count": 30,
   "metadata": {},
   "outputs": [
    {
     "name": "stdout",
     "output_type": "stream",
     "text": [
      "{'quantity': 10, 'discount': True, 'thing': 'banana'}\n"
     ]
    },
    {
     "data": {
      "text/plain": [
       "True"
      ]
     },
     "execution_count": 30,
     "metadata": {},
     "output_type": "execute_result"
    }
   ],
   "source": [
    "a['thing'] = a.pop('fuite') # a.pop('fuite')의 반환값이 banana 이므로 thing:banana 페어 생성\n",
    "print(a)\n",
    "a.pop('discount')"
   ]
  },
  {
   "cell_type": "code",
   "execution_count": null,
   "metadata": {},
   "outputs": [],
   "source": []
  }
 ],
 "metadata": {
  "kernelspec": {
   "display_name": "Python 3.10.6 64-bit",
   "language": "python",
   "name": "python3"
  },
  "language_info": {
   "codemirror_mode": {
    "name": "ipython",
    "version": 3
   },
   "file_extension": ".py",
   "mimetype": "text/x-python",
   "name": "python",
   "nbconvert_exporter": "python",
   "pygments_lexer": "ipython3",
   "version": "3.10.6"
  },
  "orig_nbformat": 4,
  "vscode": {
   "interpreter": {
    "hash": "d88b793065e60e34cedc50abc20c89e6195def6c715b98f6865f46e66db0571f"
   }
  }
 },
 "nbformat": 4,
 "nbformat_minor": 2
}
