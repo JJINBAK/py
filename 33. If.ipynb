{
 "cells": [
  {
   "cell_type": "markdown",
   "metadata": {},
   "source": [
    "# Control Statement"
   ]
  },
  {
   "cell_type": "markdown",
   "metadata": {},
   "source": [
    "# IF"
   ]
  },
  {
   "cell_type": "code",
   "execution_count": 9,
   "metadata": {},
   "outputs": [
    {
     "name": "stdout",
     "output_type": "stream",
     "text": [
      "잘하셨습니다!\n",
      "B\n"
     ]
    }
   ],
   "source": [
    "score = 85\n",
    "if score > 80:\n",
    "    print('잘하셨습니다!')\n",
    "    grade = 'B'\n",
    "print(grade)"
   ]
  },
  {
   "cell_type": "code",
   "execution_count": 10,
   "metadata": {},
   "outputs": [],
   "source": [
    "inputOne = '레몬'\n",
    "inputTwo = '오렌지'\n",
    "if len(inputOne) == 3 and len(inputTwo) == 3:\n",
    "    print('둘의 길이는 3입니다.')"
   ]
  },
  {
   "cell_type": "code",
   "execution_count": 12,
   "metadata": {},
   "outputs": [
    {
     "name": "stdout",
     "output_type": "stream",
     "text": [
      "if절 내부입니다.\n",
      "if절 외부입니다.\n"
     ]
    }
   ],
   "source": [
    "condition = True\n",
    "if condition:\n",
    "    print('if절 내부입니다.')\n",
    "print('if절 외부입니다.')"
   ]
  },
  {
   "cell_type": "code",
   "execution_count": 16,
   "metadata": {},
   "outputs": [
    {
     "name": "stdout",
     "output_type": "stream",
     "text": [
      "c는 ls1 안에 있습니다.\n",
      "x는 ls1 안에 없습니다.\n"
     ]
    }
   ],
   "source": [
    "# 멤버십 체크 (in, not in)\n",
    "ls1 = ['a', 'b', 'c', 'd']\n",
    "if 'c' in ls1: # c가 ls1에 있으면 True를 반환\n",
    "    print('c는 ls1 안에 있습니다.')\n",
    "if 'x' not in ls1:\n",
    "    print('x는 ls1 안에 없습니다.')"
   ]
  },
  {
   "cell_type": "code",
   "execution_count": 17,
   "metadata": {},
   "outputs": [
    {
     "name": "stdout",
     "output_type": "stream",
     "text": [
      "Key는 dict1의 키입니다.\n"
     ]
    }
   ],
   "source": [
    "dict1 = {'Key':True, 'Access' : False}\n",
    "\n",
    "if 'Key' in dict1.keys():\n",
    "    print('Key는 dict1의 키입니다.')"
   ]
  },
  {
   "cell_type": "markdown",
   "metadata": {},
   "source": [
    "# IF-ELSE 절"
   ]
  },
  {
   "cell_type": "code",
   "execution_count": 23,
   "metadata": {},
   "outputs": [
    {
     "name": "stdout",
     "output_type": "stream",
     "text": [
      "10.6\n",
      "조금 더 분발하셔야해요!\n"
     ]
    }
   ],
   "source": [
    "record = '10.6 second' # 기록이 str 형태로 문장 안에 있음\n",
    "final_record = float(record.split(' ')[0]) # 문장안에서 분리하고 float형으로 변수 저장\n",
    "\n",
    "print(final_record)\n",
    "if final_record < 10:\n",
    "    print('너무 빨라요!')\n",
    "else:\n",
    "    print('조금 더 분발하셔야해요!')"
   ]
  },
  {
   "cell_type": "code",
   "execution_count": 26,
   "metadata": {},
   "outputs": [
    {
     "name": "stdout",
     "output_type": "stream",
     "text": [
      "은행잔고가 부족합니다!\n",
      "고객센터에 문의해주세요.\n"
     ]
    }
   ],
   "source": [
    "flag = False\n",
    "balance = 1000000\n",
    "amtSpent = 1500000\n",
    "\n",
    "if amtSpent > balance:\n",
    "    flag = True\n",
    "    print('은행잔고가 부족합니다!\\n고객센터에 문의해주세요.')\n",
    "else:\n",
    "    print('저희 은행을 이용해주셔서 감사합니다.')"
   ]
  },
  {
   "cell_type": "code",
   "execution_count": 29,
   "metadata": {},
   "outputs": [],
   "source": [
    "if flag == True:\n",
    "    print(\"컨설턴트에 문의해주세요.\")\n",
    "    flag = False"
   ]
  },
  {
   "cell_type": "markdown",
   "metadata": {},
   "source": [
    "# Nested IF 절(중첩 IF)"
   ]
  },
  {
   "cell_type": "code",
   "execution_count": 31,
   "metadata": {},
   "outputs": [],
   "source": [
    "# IF문 중첩에 갯수 제한은 없음\n",
    "# IF문을 중첩시켜야 되는데 런타임이 길어질 수 있으므로\n",
    "# 특별하지 않다면 AND 문으로 IF문 하나에 엮는것은 효율적인 방법이 될 수 있다."
   ]
  },
  {
   "cell_type": "markdown",
   "metadata": {},
   "source": [
    "# IF-ELIF-ELSE 구문"
   ]
  },
  {
   "cell_type": "code",
   "execution_count": null,
   "metadata": {},
   "outputs": [],
   "source": []
  }
 ],
 "metadata": {
  "kernelspec": {
   "display_name": "Python 3.10.6 64-bit",
   "language": "python",
   "name": "python3"
  },
  "language_info": {
   "codemirror_mode": {
    "name": "ipython",
    "version": 3
   },
   "file_extension": ".py",
   "mimetype": "text/x-python",
   "name": "python",
   "nbconvert_exporter": "python",
   "pygments_lexer": "ipython3",
   "version": "3.10.6"
  },
  "orig_nbformat": 4,
  "vscode": {
   "interpreter": {
    "hash": "d88b793065e60e34cedc50abc20c89e6195def6c715b98f6865f46e66db0571f"
   }
  }
 },
 "nbformat": 4,
 "nbformat_minor": 2
}
