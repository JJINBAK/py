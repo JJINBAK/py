{
 "cells": [
  {
   "cell_type": "markdown",
   "metadata": {},
   "source": [
    "# Fundamental Python"
   ]
  },
  {
   "cell_type": "markdown",
   "metadata": {},
   "source": [
    "* 들여쓰기(Identation)\n",
    "* 사인(Signs)\n",
    "* 확장문자(Escape Characters)\n",
    "* 변수 이름 정의 시 주의사항\n",
    "* Short Circuit Evaluation\n",
    "* Concatenation\n",
    "* Formatting"
   ]
  },
  {
   "cell_type": "code",
   "execution_count": 7,
   "metadata": {},
   "outputs": [
    {
     "name": "stdout",
     "output_type": "stream",
     "text": [
      "50\n",
      "50\n"
     ]
    }
   ],
   "source": [
    "# 들여쓰기(identation)\n",
    "\n",
    "num1 = 20\n",
    "num2 = 30\n",
    "\n",
    "def sum_func(num1, num2):\n",
    "    return(num1+num2) # 들여쓰기를 해서 함수 밑의 레벨로 설정, 들여쓰기 안하면 함수와 같은 레벨이 되어 실행 x\n",
    "\n",
    "print(num1+num2)\n",
    "print(sum_func(num1,num2))"
   ]
  },
  {
   "cell_type": "code",
   "execution_count": 8,
   "metadata": {},
   "outputs": [],
   "source": [
    "# 사인(signs)\n",
    "\n",
    "# +, - , *, /, =, ==, !=\n",
    "# (+, -, *, /)=\n",
    "# >, >=, <, <=\n",
    "# % module\n",
    "# ** exponential ex) 2**5=32\n",
    "# 확장문자(escape character)\n",
    "\n",
    "# \\t\n",
    "sen = \"This is my coffee. \\t Please let me finish it.\"\n",
    "print(sen)\n",
    "\n",
    "# \\n\n",
    "sen = \"This is my coffee. \\n Please let me finish it.\"\n",
    "print(sen)\n",
    "\n",
    "# \\\"\n",
    "sen = \"오늘은 날씨가 좋습니다. \\\"그럼\\\" 내일은 어떨지?\"\n",
    "print(sen)\n",
    "\n",
    "# \\'\n",
    "sen = \"I'm going to learn python!\"\n",
    "print(sen)\n",
    "sen = 'I\\'m going to learn python!'\n",
    "print(sen)\n",
    "# 큰 따옴표안에서 작은 따옴표는 가능하나, 작은 따옴표 안에서 작은 따옴표는 불가\n",
    "\n",
    "# \\\\\n",
    "sen = \"Five \\ Two \\\\\"\n",
    "print(sen)\n",
    "# 하나의 백슬래시를 문장 끝에 넣을 경우 syntax error 발생"
   ]
  },
  {
   "cell_type": "code",
   "execution_count": 2,
   "metadata": {},
   "outputs": [],
   "source": [
    "# 변수이름 정의 시 주의사항\n",
    "\n",
    "# 대소문자 구분\n",
    "# 숫자 알파벳 조합시 숫자 먼저 사용 금지\n",
    "# 보존 키워드(reserved keyword) 사용 금지\n"
   ]
  },
  {
   "cell_type": "code",
   "execution_count": null,
   "metadata": {},
   "outputs": [],
   "source": []
  }
 ],
 "metadata": {
  "kernelspec": {
   "display_name": "Python 3.10.6 64-bit",
   "language": "python",
   "name": "python3"
  },
  "language_info": {
   "codemirror_mode": {
    "name": "ipython",
    "version": 3
   },
   "file_extension": ".py",
   "mimetype": "text/x-python",
   "name": "python",
   "nbconvert_exporter": "python",
   "pygments_lexer": "ipython3",
   "version": "3.10.6"
  },
  "orig_nbformat": 4,
  "vscode": {
   "interpreter": {
    "hash": "d88b793065e60e34cedc50abc20c89e6195def6c715b98f6865f46e66db0571f"
   }
  }
 },
 "nbformat": 4,
 "nbformat_minor": 2
}
