{
 "cells": [
  {
   "cell_type": "markdown",
   "metadata": {},
   "source": [
    "# Fundamental Python"
   ]
  },
  {
   "cell_type": "markdown",
   "metadata": {},
   "source": [
    "* 들여쓰기(Identation)\n",
    "* 사인(Signs)\n",
    "* 확장문자(Escape Characters)\n",
    "* 변수 이름 정의 시 주의사항\n",
    "* Short Circuit Evaluation\n",
    "* Concatenation\n",
    "* Formatting"
   ]
  },
  {
   "cell_type": "code",
   "execution_count": 7,
   "metadata": {},
   "outputs": [
    {
     "name": "stdout",
     "output_type": "stream",
     "text": [
      "50\n",
      "50\n"
     ]
    }
   ],
   "source": [
    "# 들여쓰기(identation)\n",
    "\n",
    "num1 = 20\n",
    "num2 = 30\n",
    "\n",
    "def sum_func(num1, num2):\n",
    "    return(num1+num2) # 들여쓰기를 해서 함수 밑의 레벨로 설정, 들여쓰기 안하면 함수와 같은 레벨이 되어 실행 x\n",
    "\n",
    "print(num1+num2)\n",
    "print(sum_func(num1,num2))"
   ]
  },
  {
   "cell_type": "code",
   "execution_count": 8,
   "metadata": {},
   "outputs": [],
   "source": [
    "# 사인(signs)\n",
    "\n",
    "# +, - , *, /, =, ==, !=\n",
    "# (+, -, *, /)=\n",
    "# >, >=, <, <=\n",
    "# % module\n",
    "# ** exponential ex) 2**5=32\n",
    "# 확장문자(escape character)\n",
    "\n",
    "# \\t\n",
    "sen = \"This is my coffee. \\t Please let me finish it.\"\n",
    "print(sen)\n",
    "\n",
    "# \\n\n",
    "sen = \"This is my coffee. \\n Please let me finish it.\"\n",
    "print(sen)\n",
    "\n",
    "# \\\"\n",
    "sen = \"오늘은 날씨가 좋습니다. \\\"그럼\\\" 내일은 어떨지?\"\n",
    "print(sen)\n",
    "\n",
    "# \\'\n",
    "sen = \"I'm going to learn python!\"\n",
    "print(sen)\n",
    "sen = 'I\\'m going to learn python!'\n",
    "print(sen)\n",
    "# 큰 따옴표안에서 작은 따옴표는 가능하나, 작은 따옴표 안에서 작은 따옴표는 불가\n",
    "\n",
    "# \\\\\n",
    "sen = \"Five \\ Two \\\\\"\n",
    "print(sen)\n",
    "# 하나의 백슬래시를 문장 끝에 넣을 경우 syntax error 발생"
   ]
  },
  {
   "cell_type": "code",
   "execution_count": 2,
   "metadata": {},
   "outputs": [],
   "source": [
    "# 변수이름 정의 시 주의사항\n",
    "\n",
    "# 대소문자 구분\n",
    "# 숫자 알파벳 조합시 숫자 먼저 사용 금지\n",
    "# 보존 키워드(reserved keyword) 사용 금지\n"
   ]
  },
  {
   "cell_type": "code",
   "execution_count": 1,
   "metadata": {},
   "outputs": [],
   "source": [
    "# Short Circuit Evaluation\n",
    "\n",
    "# Boolean은 왼쪽에서 오른쪽으로 evaluation\n",
    "# 특정 조건 만족시 evaluation 건너뜀\n",
    "# 메모리 절약 ex) x1, x2, ..., x10000\n",
    "# 빠른 프로그램 런타임"
   ]
  },
  {
   "cell_type": "code",
   "execution_count": 2,
   "metadata": {},
   "outputs": [],
   "source": [
    "# Concatenation\n",
    "\n",
    "sen = \"I am tall.\"\n",
    "sen2 = \"What about you?\""
   ]
  },
  {
   "cell_type": "code",
   "execution_count": 4,
   "metadata": {},
   "outputs": [
    {
     "name": "stdout",
     "output_type": "stream",
     "text": [
      "I am tall. What about you?\n"
     ]
    }
   ],
   "source": [
    "final_sen = sen + \" \" + sen2 # concatenation\n",
    "print(final_sen)"
   ]
  },
  {
   "cell_type": "code",
   "execution_count": 7,
   "metadata": {},
   "outputs": [
    {
     "name": "stdout",
     "output_type": "stream",
     "text": [
      "I am tall. BY THE WAY What about you?\n"
     ]
    }
   ],
   "source": [
    "sen_mid = \"BY THE WAY\"\n",
    "final_sen = sen + ' ' + sen_mid + ' ' + sen2\n",
    "print(final_sen)"
   ]
  },
  {
   "cell_type": "code",
   "execution_count": 10,
   "metadata": {},
   "outputs": [
    {
     "name": "stdout",
     "output_type": "stream",
     "text": [
      "Today's temperature is 20C\n"
     ]
    }
   ],
   "source": [
    "# integer concatenation\n",
    "\n",
    "temp = 20\n",
    "sen3 = \"Today\\'s temperature is \" + str(temp) + \"C\"\n",
    "print(sen3)"
   ]
  },
  {
   "cell_type": "code",
   "execution_count": 13,
   "metadata": {},
   "outputs": [
    {
     "name": "stdout",
     "output_type": "stream",
     "text": [
      "192.168.1.107\n"
     ]
    }
   ],
   "source": [
    "# list concatenation\n",
    "ip_address = ['192','168','1','107']\n",
    "print('.'.join(ip_address))\n"
   ]
  },
  {
   "cell_type": "code",
   "execution_count": 32,
   "metadata": {},
   "outputs": [
    {
     "name": "stdout",
     "output_type": "stream",
     "text": [
      "100 is bigger than 50\n",
      "Today temperature is 20C.\n",
      "PI is 3.142.\n",
      "I'm 30 years old and my job is Programmer and my hobby is bowling.\n",
      "I'm 30 years old and my job is Programmer and my hobby is bowling.\n",
      "My hobby is bowling and my job is Programmer. Oh and I'm 30 years old\n",
      "sushi is my favorite food. Let's eat now.\n"
     ]
    }
   ],
   "source": [
    "# Formatting\n",
    "\n",
    "# 특수기호를 사용하여 문자열 포맷 정의 %d:integer %f:float %s:string\n",
    "# %o:8진수, %x:16진수\n",
    "\n",
    "sen1 = \"%d is bigger than 50\" %100\n",
    "print(sen1)\n",
    "sen2 = \"%s temperature is %dC.\" %(\"Today\", 20)\n",
    "print(sen2)\n",
    "sen3 = \"PI is %.3f.\" %3.1415\n",
    "print(sen3)\n",
    "\n",
    "# format() 함수\n",
    "# \"{} {} {}\".format(A,B,C)\n",
    "\n",
    "age = 30\n",
    "job = 'Programmer'\n",
    "hobby = 'bowling'\n",
    "sen4 = \"I'm \" + str(age) + \" years old and my job is \" + job + \" and my hobby is \" + hobby + \".\"\n",
    "print(sen4)\n",
    "\n",
    "sen5 = \"I'm {} years old and my job is {} and my hobby is {}.\".format(age, job, hobby)\n",
    "print(sen5)\n",
    "\n",
    "sen6 = \"My hobby is {2} and my job is {1}. Oh and I'm {0} years old\".format(age, job, hobby)\n",
    "print(sen6)\n",
    "\n",
    "sen7 = \"{food} is my favorite food. Let's eat {when}.\".format(food=\"sushi\", when=\"now\")\n",
    "print(sen7)"
   ]
  },
  {
   "cell_type": "code",
   "execution_count": null,
   "metadata": {},
   "outputs": [],
   "source": []
  }
 ],
 "metadata": {
  "kernelspec": {
   "display_name": "Python 3.10.6 64-bit",
   "language": "python",
   "name": "python3"
  },
  "language_info": {
   "codemirror_mode": {
    "name": "ipython",
    "version": 3
   },
   "file_extension": ".py",
   "mimetype": "text/x-python",
   "name": "python",
   "nbconvert_exporter": "python",
   "pygments_lexer": "ipython3",
   "version": "3.10.6"
  },
  "orig_nbformat": 4,
  "vscode": {
   "interpreter": {
    "hash": "d88b793065e60e34cedc50abc20c89e6195def6c715b98f6865f46e66db0571f"
   }
  }
 },
 "nbformat": 4,
 "nbformat_minor": 2
}
